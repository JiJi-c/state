{
 "cells": [
  {
   "cell_type": "code",
   "execution_count": null,
   "metadata": {},
   "outputs": [],
   "source": [
    "import os\n",
    "import sys\n",
    "sys.path.append('..')\n",
    "\n",
    "import scanpy as sc\n",
    "import anndata\n",
    "import matplotlib.pyplot as plt\n",
    "import seaborn as sns\n",
    "import matplotlib.lines as mlines\n",
    "from omegaconf import OmegaConf\n",
    "\n",
    "from vci.inference import Inference"
   ]
  },
  {
   "cell_type": "code",
   "execution_count": null,
   "metadata": {},
   "outputs": [],
   "source": [
    "emb_key = 'X_emb'\n",
    "job_name = 'simple_reverted_1'\n",
    "config_file = f'/home/rajesh.ilango/Projects/vci/vci_pretrain/outputs/test/conf/training.yaml'\n",
    "iter = 234000\n",
    "chkp_file = f'/large_storage/ctc/userspace/aadduri/vci/checkpoint/nr_mse_de/exp_nr_mse_de_layers_8_dmodel_512_samples_2048_max_lr_0.00024_op_dim_512-epoch=0-step=234000.ckpt'\n",
    "# chkp_file = f'/scratch/ctc/ML/vci/checkpoint/pretrain/simple_reverted_1/exp_simple_reverted_1_layers_8_dmodel_512_samples_2048_max_lr_0.00024_op_dim_512-epoch=0-step=13000.ckpt'\n",
    "input_file = '/large_storage/ctc/datasets/vci/validation/replogle_perturbation.h5ad'\n",
    "\n",
    "dataset_name = os.path.basename(input_file).split('.')[0]\n",
    "output_emb_file = f'../outputs/{job_name}/{dataset_name}_emb_iter-{iter}.h5ad'\n",
    "chkp_file"
   ]
  },
  {
   "cell_type": "code",
   "execution_count": null,
   "metadata": {},
   "outputs": [],
   "source": [
    "conf = OmegaConf.load(config_file)\n",
    "\n",
    "if not os.path.exists(output_emb_file):\n",
    "    inferer = Inference(conf)\n",
    "    inferer.load_model(chkp_file)\n",
    "    os.makedirs(os.path.dirname(output_emb_file), exist_ok=True)\n",
    "    inferer.encode_adata(input_file, output_emb_file, emb_key=emb_key)"
   ]
  },
  {
   "cell_type": "code",
   "execution_count": null,
   "metadata": {},
   "outputs": [],
   "source": [
    "adata = sc.read_h5ad(output_emb_file)\n",
    "\n",
    "# Choose embedding method: set use_pca = True for PCA, False for UMAP\n",
    "use_pca = True  # Change to False to use UMAP\n",
    "if use_pca:\n",
    "    from sklearn.decomposition import PCA\n",
    "    embedding = PCA(n_components=2).fit_transform(adata.obsm[emb_key])\n",
    "else:\n",
    "    import umap\n",
    "    embedding = umap.UMAP(n_components=2).fit_transform(adata.obsm[emb_key])\n",
    "\n",
    "# Get the cell type information as a categorical series\n",
    "cell_types = adata.obs['cell_type'].astype('category')\n",
    "\n",
    "# Create a color palette based on the number of unique cell types\n",
    "palette = sns.color_palette(\"hsv\", len(cell_types.cat.categories))\n",
    "color_dict = dict(zip(cell_types.cat.categories, palette))\n",
    "\n",
    "# Instead of using .map (which may fail with a MultiIndex), use a list comprehension\n",
    "colors = [color_dict[ct] for ct in cell_types]\n",
    "\n",
    "# Plot the embedding\n",
    "plt.figure(figsize=(8, 6))\n",
    "plt.scatter(embedding[:, 0], embedding[:, 1], c=colors, s=5, alpha=0.7)\n",
    "plt.xlabel(\"Component 1\")\n",
    "plt.ylabel(\"Component 2\")\n",
    "plt.title(\"Embedding ({}) for {} ({})\".format(\"PCA\" if use_pca else \"UMAP\", emb_key, job_name + ' ' + str(iter)))\n",
    "\n",
    "\n",
    "# Create legend handles for each cell type\n",
    "handles = [\n",
    "    mlines.Line2D([], [], color=color_dict[ct], marker='o', linestyle='None', markersize=6, label=ct)\n",
    "    for ct in cell_types.cat.categories\n",
    "]\n",
    "plt.legend(handles=handles, title=\"Cell Type\", bbox_to_anchor=(1.05, 1), loc='upper left')\n",
    "\n",
    "plt.show()"
   ]
  }
 ],
 "metadata": {
  "kernelspec": {
   "display_name": "vci2",
   "language": "python",
   "name": "python3"
  },
  "language_info": {
   "codemirror_mode": {
    "name": "ipython",
    "version": 3
   },
   "file_extension": ".py",
   "mimetype": "text/x-python",
   "name": "python",
   "nbconvert_exporter": "python",
   "pygments_lexer": "ipython3",
   "version": "3.11.0"
  }
 },
 "nbformat": 4,
 "nbformat_minor": 2
}
