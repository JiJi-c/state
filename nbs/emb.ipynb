{
 "cells": [
  {
   "cell_type": "code",
   "execution_count": 7,
   "metadata": {},
   "outputs": [],
   "source": [
    "import os\n",
    "import sys\n",
    "sys.path.append('..')\n",
    "\n",
    "import scanpy as sc\n",
    "import anndata\n",
    "import matplotlib.pyplot as plt\n",
    "import seaborn as sns\n",
    "import matplotlib.lines as mlines\n",
    "from omegaconf import OmegaConf\n",
    "\n",
    "from vci.inference import Inference\n",
    "from vci.utils import get_embedding_cfg, get_dataset_cfg"
   ]
  },
  {
   "cell_type": "code",
   "execution_count": 8,
   "metadata": {},
   "outputs": [
    {
     "data": {
      "text/plain": [
       "'/large_storage/ctc/userspace/aadduri/vci/checkpoint/nr_mse_de/exp_nr_mse_de_layers_8_dmodel_512_samples_2048_max_lr_0.00024_op_dim_512-epoch=0-step=234000.ckpt'"
      ]
     },
     "execution_count": 8,
     "metadata": {},
     "output_type": "execute_result"
    }
   ],
   "source": [
    "emb_key = 'X_emb'\n",
    "job_name = 'simple_reverted_1'\n",
    "config_file = '/home/rajesh.ilango/Projects/vci/vci_pretrain/conf/defaults.yaml'\n",
    "iter = 234000\n",
    "chkp_file = f'/large_storage/ctc/userspace/aadduri/vci/checkpoint/nr_mse_de/exp_nr_mse_de_layers_8_dmodel_512_samples_2048_max_lr_0.00024_op_dim_512-epoch=0-step=234000.ckpt'\n",
    "# chkp_file = f'/scratch/ctc/ML/vci/checkpoint/pretrain/simple_reverted_1/exp_simple_reverted_1_layers_8_dmodel_512_samples_2048_max_lr_0.00024_op_dim_512-epoch=0-step=13000.ckpt'\n",
    "input_file = '/large_storage/ctc/datasets/vci/validation/replogle_perturbation.h5ad'\n",
    "\n",
    "dataset_name = os.path.basename(input_file).split('.')[0]\n",
    "output_emb_file = f'../outputs/{job_name}/{dataset_name}_emb_iter-{iter}.h5ad'\n",
    "chkp_file"
   ]
  },
  {
   "cell_type": "code",
   "execution_count": 9,
   "metadata": {},
   "outputs": [
    {
     "data": {
      "text/plain": [
       "{'experiment': {'name': 'vci_pretrain_${loss.name}_${model.nhead}_${model.nlayers}', 'local': 'local', 'compiled': False, 'deaware': False, 'profile': {'enable_profiler': False, 'profile_steps': [10, 100], 'max_steps': 110}, 'num_epochs': 16, 'num_nodes': 1, 'num_gpus_per_node': 1, 'port': 12399, 'val_check_interval': 1000, 'limit_val_batches': 100, 'checkpoint': {'path': '/scratch/ctc/ML/vci/checkpoint/pretrain', 'save_top_k': 4, 'monitor': 'trainer/train_loss', 'every_n_train_steps': 1000}}, 'wandb': {'enable': True, 'project': 'vci'}, 'embeddings': {'current': 'esm2-cellxgene', 'esm2-cellxgene': {'all_embeddings': '/large_storage/ctc/ML/data/cell/misc/Homo_sapiens.GRCh38.gene_symbol_to_embedding_ESM2.pt', 'ds_emb_mapping': '/large_storage/ctc/datasets/vci/training/gene_embidx_mapping.torch', 'size': 5120}, 'evo2-scbasecamp': {'all_embeddings': '/large_storage/ctc/projects/vci/scbasecamp/all_species_Evo2.torch', 'ds_emb_mapping': '/large_storage/ctc/projects/vci/scbasecamp/dataset_emb_idx_Evo2_fixed.torch', 'size': 4096}}, 'validations': {'diff_exp': {'enable': True, 'eval_interval_multiple': 10, 'obs_pert_col': 'gene', 'obs_filter_label': 'non-targeting', 'top_k_rank': 200, 'method': None, 'dataset': '/large_storage/ctc/datasets/vci/validation/rpe1_top5000_variable.h5ad', 'dataset_name': 'rpe1_top5000_variable'}, 'perturbation': {'enable': True, 'eval_interval_multiple': 10, 'pert_col': 'gene', 'ctrl_label': 'non-targeting', 'dataset': '/large_storage/ctc/datasets/vci/validation/replogle_perturbation.h5ad', 'dataset_name': 'replogle_perturbation'}}, 'dataset': {'name': 'vci', 'seed': 42, 'num_train_workers': 16, 'num_val_workers': 4, 'current': 'cellxgene', 'cellxgene': {'ds_type': 'npz', 'train': '/scratch/ctc/ML/uce/npz_train_datasets.csv', 'val': '/scratch/ctc/ML/uce/npz_val_datasets.csv', 'data_dir': '/large_experiments/ctc/ML/data/cell/observational/', 'filter': False, 'valid_genes_masks': None}, 'scbasecamp': {'ds_type': 'filtered_h5ad', 'train': '/large_storage/ctc/projects/vci/scbasecamp/scBasecamp_all.csv', 'val': '/large_storage/ctc/projects/vci/scbasecamp/scBasecamp_all.csv', 'filter': True, 'valid_genes_masks': '/large_storage/ctc/projects/vci/scbasecamp/valid_gene_index_Evo2.torch'}, 'tahoe': {'ds_type': 'filtered_h5ad', 'train': '/scratch/ctc/ML/uce/full_train_datasets.csv', 'val': '/scratch/ctc/ML/uce/full_train_datasets.csv', 'filter': True, 'valid_genes_masks': None}, 'pad_length': 2048, 'pad_token_idx': 0, 'cls_token_idx': 3, 'chrom_token_right_idx': 2, 'P': 512, 'N': 512, 'num_cells': 36238464, 'overrides': {'rpe1_top5000_variable': '/large_storage/ctc/datasets/vci/validation/rpe1_top5000_variable.h5ad'}}, 'tokenizer': {'token_dim': 5120}, 'model': {'name': 'vci', 'batch_size': 128, 'emsize': 512, 'd_hid': 1024, 'nhead': 16, 'nlayers': 8, 'dropout': 0.1, 'output_dim': 512, 'use_flash_attention': True, 'rda': False}, 'task': {'mask': 0.2}, 'optimizer': {'max_lr': 0.00024, 'weight_decay': 0.01, 'start': 0.0001, 'end': 1.0, 'max_grad_norm': 0.8, 'gradient_accumulation_steps': 1}, 'loss': {'name': 'cross_entropy', 'apply_normalization': False}}"
      ]
     },
     "execution_count": 9,
     "metadata": {},
     "output_type": "execute_result"
    }
   ],
   "source": [
    "conf = OmegaConf.load(config_file)\n",
    "conf"
   ]
  },
  {
   "cell_type": "code",
   "execution_count": 10,
   "metadata": {},
   "outputs": [
    {
     "name": "stdout",
     "output_type": "stream",
     "text": [
      "!!! Using Flash Attention !!!\n"
     ]
    },
    {
     "ename": "TypeError",
     "evalue": "create_dataloader() got an unexpected keyword argument 'batch_size'",
     "output_type": "error",
     "traceback": [
      "\u001b[0;31m---------------------------------------------------------------------------\u001b[0m",
      "\u001b[0;31mTypeError\u001b[0m                                 Traceback (most recent call last)",
      "Cell \u001b[0;32mIn[10], line 5\u001b[0m\n\u001b[1;32m      3\u001b[0m inferer\u001b[38;5;241m.\u001b[39mload_model(chkp_file)\n\u001b[1;32m      4\u001b[0m os\u001b[38;5;241m.\u001b[39mmakedirs(os\u001b[38;5;241m.\u001b[39mpath\u001b[38;5;241m.\u001b[39mdirname(output_emb_file), exist_ok\u001b[38;5;241m=\u001b[39m\u001b[38;5;28;01mTrue\u001b[39;00m)\n\u001b[0;32m----> 5\u001b[0m \u001b[43minferer\u001b[49m\u001b[38;5;241;43m.\u001b[39;49m\u001b[43mencode_adata\u001b[49m\u001b[43m(\u001b[49m\u001b[43minput_file\u001b[49m\u001b[43m,\u001b[49m\u001b[43m \u001b[49m\u001b[43moutput_emb_file\u001b[49m\u001b[43m,\u001b[49m\u001b[43m \u001b[49m\u001b[43memb_key\u001b[49m\u001b[38;5;241;43m=\u001b[39;49m\u001b[43memb_key\u001b[49m\u001b[43m)\u001b[49m\n",
      "File \u001b[0;32m~/Projects/vci/vci_pretrain/nbs/../vci/inference.py:134\u001b[0m, in \u001b[0;36mInference.encode_adata\u001b[0;34m(self, input_adata_path, output_adata_path, emb_key, batch_size)\u001b[0m\n\u001b[1;32m    131\u001b[0m datasets \u001b[38;5;241m=\u001b[39m \u001b[38;5;28mlist\u001b[39m(shape_dict\u001b[38;5;241m.\u001b[39mkeys())\n\u001b[1;32m    132\u001b[0m adata \u001b[38;5;241m=\u001b[39m anndata\u001b[38;5;241m.\u001b[39mread(input_adata_path)\n\u001b[0;32m--> 134\u001b[0m dataloader \u001b[38;5;241m=\u001b[39m \u001b[43mcreate_dataloader\u001b[49m\u001b[43m(\u001b[49m\u001b[38;5;28;43mself\u001b[39;49m\u001b[38;5;241;43m.\u001b[39;49m\u001b[43m_vci_conf\u001b[49m\u001b[43m,\u001b[49m\n\u001b[1;32m    135\u001b[0m \u001b[43m                               \u001b[49m\u001b[43madata\u001b[49m\u001b[38;5;241;43m=\u001b[39;49m\u001b[43madata\u001b[49m\u001b[43m,\u001b[49m\n\u001b[1;32m    136\u001b[0m \u001b[43m                               \u001b[49m\u001b[43madata_name\u001b[49m\u001b[38;5;241;43m=\u001b[39;49m\u001b[43mPath\u001b[49m\u001b[43m(\u001b[49m\u001b[43minput_adata_path\u001b[49m\u001b[43m)\u001b[49m\u001b[38;5;241;43m.\u001b[39;49m\u001b[43mstem\u001b[49m\u001b[43m,\u001b[49m\n\u001b[1;32m    137\u001b[0m \u001b[43m                               \u001b[49m\u001b[43mshape_dict\u001b[49m\u001b[38;5;241;43m=\u001b[39;49m\u001b[43mshape_dict\u001b[49m\u001b[43m,\u001b[49m\n\u001b[1;32m    138\u001b[0m \u001b[43m                               \u001b[49m\u001b[43mbatch_size\u001b[49m\u001b[38;5;241;43m=\u001b[39;49m\u001b[43mbatch_size\u001b[49m\u001b[43m,\u001b[49m\n\u001b[1;32m    139\u001b[0m \u001b[43m                               \u001b[49m\u001b[43mdata_dir\u001b[49m\u001b[38;5;241;43m=\u001b[39;49m\u001b[43mos\u001b[49m\u001b[38;5;241;43m.\u001b[39;49m\u001b[43mpath\u001b[49m\u001b[38;5;241;43m.\u001b[39;49m\u001b[43mdirname\u001b[49m\u001b[43m(\u001b[49m\u001b[43minput_adata_path\u001b[49m\u001b[43m)\u001b[49m\u001b[43m,\u001b[49m\n\u001b[1;32m    140\u001b[0m \u001b[43m                               \u001b[49m\u001b[43mshuffle\u001b[49m\u001b[38;5;241;43m=\u001b[39;49m\u001b[38;5;28;43;01mFalse\u001b[39;49;00m\u001b[43m)\u001b[49m\n\u001b[1;32m    142\u001b[0m \u001b[38;5;28;01mfor\u001b[39;00m embeddings \u001b[38;5;129;01min\u001b[39;00m \u001b[38;5;28mself\u001b[39m\u001b[38;5;241m.\u001b[39mencode(dataloader):\n\u001b[1;32m    143\u001b[0m     \u001b[38;5;28mself\u001b[39m\u001b[38;5;241m.\u001b[39m_save_data(input_adata_path, output_adata_path, emb_key, embeddings)\n",
      "\u001b[0;31mTypeError\u001b[0m: create_dataloader() got an unexpected keyword argument 'batch_size'"
     ]
    }
   ],
   "source": [
    "# if not os.path.exists(output_emb_file):\n",
    "inferer = Inference(conf)\n",
    "inferer.load_model(chkp_file)\n",
    "os.makedirs(os.path.dirname(output_emb_file), exist_ok=True)\n",
    "inferer.encode_adata(input_file, output_emb_file, emb_key=emb_key)"
   ]
  },
  {
   "cell_type": "code",
   "execution_count": null,
   "metadata": {},
   "outputs": [],
   "source": [
    "adata = sc.read_h5ad(output_emb_file)\n",
    "\n",
    "# Choose embedding method: set use_pca = True for PCA, False for UMAP\n",
    "use_pca = True  # Change to False to use UMAP\n",
    "if use_pca:\n",
    "    from sklearn.decomposition import PCA\n",
    "    embedding = PCA(n_components=2).fit_transform(adata.obsm[emb_key])\n",
    "else:\n",
    "    import umap\n",
    "    embedding = umap.UMAP(n_components=2).fit_transform(adata.obsm[emb_key])\n",
    "\n",
    "# Get the cell type information as a categorical series\n",
    "cell_types = adata.obs['cell_type'].astype('category')\n",
    "\n",
    "# Create a color palette based on the number of unique cell types\n",
    "palette = sns.color_palette(\"hsv\", len(cell_types.cat.categories))\n",
    "color_dict = dict(zip(cell_types.cat.categories, palette))\n",
    "\n",
    "# Instead of using .map (which may fail with a MultiIndex), use a list comprehension\n",
    "colors = [color_dict[ct] for ct in cell_types]\n",
    "\n",
    "# Plot the embedding\n",
    "plt.figure(figsize=(8, 6))\n",
    "plt.scatter(embedding[:, 0], embedding[:, 1], c=colors, s=5, alpha=0.7)\n",
    "plt.xlabel(\"Component 1\")\n",
    "plt.ylabel(\"Component 2\")\n",
    "plt.title(\"Embedding ({}) for {} ({})\".format(\"PCA\" if use_pca else \"UMAP\", emb_key, job_name + ' ' + str(iter)))\n",
    "\n",
    "\n",
    "# Create legend handles for each cell type\n",
    "handles = [\n",
    "    mlines.Line2D([], [], color=color_dict[ct], marker='o', linestyle='None', markersize=6, label=ct)\n",
    "    for ct in cell_types.cat.categories\n",
    "]\n",
    "plt.legend(handles=handles, title=\"Cell Type\", bbox_to_anchor=(1.05, 1), loc='upper left')\n",
    "\n",
    "plt.show()"
   ]
  }
 ],
 "metadata": {
  "kernelspec": {
   "display_name": "vci2",
   "language": "python",
   "name": "python3"
  },
  "language_info": {
   "codemirror_mode": {
    "name": "ipython",
    "version": 3
   },
   "file_extension": ".py",
   "mimetype": "text/x-python",
   "name": "python",
   "nbconvert_exporter": "python",
   "pygments_lexer": "ipython3",
   "version": "3.11.0"
  }
 },
 "nbformat": 4,
 "nbformat_minor": 2
}
