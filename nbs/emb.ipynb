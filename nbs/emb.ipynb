{
 "cells": [
  {
   "cell_type": "code",
   "execution_count": null,
   "metadata": {},
   "outputs": [],
   "source": [
    "import sys\n",
    "sys.path.append('..')\n",
    "\n",
    "import scanpy as sc\n",
    "import matplotlib.pyplot as plt\n",
    "import seaborn as sns\n",
    "import matplotlib.lines as mlines\n",
    "\n",
    "from vci import Inference\n"
   ]
  },
  {
   "cell_type": "code",
   "execution_count": null,
   "metadata": {},
   "outputs": [],
   "source": [
    "config_file = '../conf/defaults.yaml'\n",
    "model_file = '/scratch/ctc/ML/vci/checkpoint/pretrain/vci_pretrain_wasserstein_16_8/exp_vci_pretrain_wasserstein_16_8_layers_8_dmodel_512_samples_2048_max_lr_0.0004_op_dim_512-epoch=0-step=9000.ckpt'\n",
    "input_file = '/large_storage/ctc/datasets/vci/validation/replogle_perturbation.h5ad'\n",
    "output_emb_file = '../outputs/eval_inference/replogle_emb_iter9000.h5ad'\n"
   ]
  },
  {
   "cell_type": "code",
   "execution_count": null,
   "metadata": {},
   "outputs": [],
   "source": [
    "inferer = Inference(config_file)\n",
    "inferer.load_model(model_file)"
   ]
  },
  {
   "cell_type": "code",
   "execution_count": null,
   "metadata": {},
   "outputs": [],
   "source": [
    "inferer.encode_adata(input_file, output_emb_file)\n"
   ]
  },
  {
   "cell_type": "code",
   "execution_count": null,
   "metadata": {},
   "outputs": [],
   "source": [
    "adata = sc.read_h5ad(output_emb_file)\n",
    "\n",
    "# Choose embedding method: set use_pca = True for PCA, False for UMAP\n",
    "use_pca = True  # Change to False to use UMAP\n",
    "embed_key = 'X_emb'\n",
    "\n",
    "if use_pca:\n",
    "    from sklearn.decomposition import PCA\n",
    "    embedding = PCA(n_components=2).fit_transform(adata.obsm[embed_key])\n",
    "else:\n",
    "    import umap\n",
    "    embedding = umap.UMAP(n_components=2).fit_transform(adata.obsm[embed_key])\n",
    "\n",
    "# Get the cell type information as a categorical series\n",
    "cell_types = adata.obs['cell_type'].astype('category')\n",
    "\n",
    "# Create a color palette based on the number of unique cell types\n",
    "palette = sns.color_palette(\"hsv\", len(cell_types.cat.categories))\n",
    "color_dict = dict(zip(cell_types.cat.categories, palette))\n",
    "\n",
    "# Instead of using .map (which may fail with a MultiIndex), use a list comprehension\n",
    "colors = [color_dict[ct] for ct in cell_types]\n",
    "\n",
    "# Plot the embedding\n",
    "plt.figure(figsize=(8, 6))\n",
    "plt.scatter(embedding[:, 0], embedding[:, 1], c=colors, s=5, alpha=0.7)\n",
    "plt.xlabel(\"Component 1\")\n",
    "plt.ylabel(\"Component 2\")\n",
    "plt.title(\"Embedding ({}) for {} ({})\".format(\"PCA\" if use_pca else \"UMAP\", embed_key, job_name))\n",
    "\n",
    "# Create legend handles for each cell type\n",
    "handles = [\n",
    "    mlines.Line2D([], [], color=color_dict[ct], marker='o', linestyle='None', markersize=6, label=ct)\n",
    "    for ct in cell_types.cat.categories\n",
    "]\n",
    "plt.legend(handles=handles, title=\"Cell Type\", bbox_to_anchor=(1.05, 1), loc='upper left')\n",
    "\n",
    "plt.show()"
   ]
  }
 ],
 "metadata": {
  "kernelspec": {
   "display_name": "vci2",
   "language": "python",
   "name": "python3"
  },
  "language_info": {
   "codemirror_mode": {
    "name": "ipython",
    "version": 3
   },
   "file_extension": ".py",
   "mimetype": "text/x-python",
   "name": "python",
   "nbconvert_exporter": "python",
   "pygments_lexer": "ipython3",
   "version": "3.11.0"
  }
 },
 "nbformat": 4,
 "nbformat_minor": 2
}
